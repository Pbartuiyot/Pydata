{
 "cells": [
  {
   "cell_type": "markdown",
   "metadata": {},
   "source": [
    "# Numpy Exercise 5\n",
    "\n",
    "### All of the questions in this exercise are attributed to rougier/numpy-100"
   ]
  },
  {
   "cell_type": "code",
   "execution_count": 16,
   "metadata": {},
   "outputs": [],
   "source": [
    "import numpy as np"
   ]
  },
  {
   "cell_type": "markdown",
   "metadata": {},
   "source": [
    "#### 61. Find the nearest value from a given value in an array (★★☆)"
   ]
  },
  {
   "cell_type": "code",
   "execution_count": 17,
   "metadata": {},
   "outputs": [
    {
     "name": "stdout",
     "output_type": "stream",
     "text": [
      "0.2150454210388252\n"
     ]
    }
   ],
   "source": [
    "X = np.random.uniform(0,0.4,3)\n",
    "x = 0.2\n",
    "m = X.flat[np.abs(X - x).argmin()]\n",
    "print(m)"
   ]
  },
  {
   "cell_type": "markdown",
   "metadata": {},
   "source": [
    "#### 62. Considering two arrays with shape (1,3) and (3,1), how to compute their sum using an iterator? (★★☆)"
   ]
  },
  {
   "cell_type": "code",
   "execution_count": 18,
   "metadata": {},
   "outputs": [
    {
     "name": "stdout",
     "output_type": "stream",
     "text": [
      "[[0 1 2]\n",
      " [1 2 3]\n",
      " [2 3 4]]\n"
     ]
    }
   ],
   "source": [
    "A = np.arange(3).reshape(3,1)\n",
    "B = np.arange(3).reshape(1,3)\n",
    "it = np.nditer([A,B,None])\n",
    "for x,y,z in it: z[...] = x + y\n",
    "print(it.operands[2])"
   ]
  },
  {
   "cell_type": "markdown",
   "metadata": {},
   "source": [
    "#### 63. Create an array class that has a name attribute (★★☆)"
   ]
  },
  {
   "cell_type": "code",
   "execution_count": 20,
   "metadata": {},
   "outputs": [
    {
     "name": "stdout",
     "output_type": "stream",
     "text": [
      "Array: [1 2 3 4 5]\n",
      "Name: MyArray\n"
     ]
    }
   ],
   "source": [
    "class NamedArray(np.ndarray):\n",
    "    def __new__(cls, input_array, name=\"\"):\n",
    "        \n",
    "        obj = np.asarray(input_array).view(cls)\n",
    "        # Add the new attribute\n",
    "        obj.name = name\n",
    "        return obj\n",
    "    \n",
    "    def __array_finalize__(self, obj):\n",
    "        if obj is None: return\n",
    "     \n",
    "        self.name = getattr(obj, 'name', \"\")\n",
    "\n",
    "data = np.array([1, 2, 3, 4, 5])\n",
    "named_array = NamedArray(data, name=\"MyArray\")\n",
    "\n",
    "print(\"Array:\", named_array)\n",
    "print(\"Name:\", named_array.name)\n"
   ]
  },
  {
   "cell_type": "markdown",
   "metadata": {},
   "source": [
    "#### 64. Consider a given vector, how to add 1 to each element indexed by a second vector (be careful with repeated indices)? (★★★)"
   ]
  },
  {
   "cell_type": "code",
   "execution_count": 21,
   "metadata": {},
   "outputs": [
    {
     "name": "stdout",
     "output_type": "stream",
     "text": [
      "[2. 1. 5. 2. 3. 4. 3. 4. 1. 5.]\n",
      "[3. 1. 9. 3. 5. 7. 5. 7. 1. 9.]\n"
     ]
    }
   ],
   "source": [
    "# Author: Brett Olsen\n",
    "\n",
    "Z = np.ones(10)\n",
    "I = np.random.randint(0,len(Z),20)\n",
    "Z += np.bincount(I, minlength=len(Z))\n",
    "print(Z)\n",
    "\n",
    "# Another solution\n",
    "# Author: Bartosz Telenczuk\n",
    "np.add.at(Z, I, 1)\n",
    "print(Z)"
   ]
  },
  {
   "cell_type": "markdown",
   "metadata": {},
   "source": [
    "#### 65. How to accumulate elements of a vector (X) to an array (F) based on an index list (I)? (★★★)"
   ]
  },
  {
   "cell_type": "code",
   "execution_count": 22,
   "metadata": {},
   "outputs": [
    {
     "name": "stdout",
     "output_type": "stream",
     "text": [
      "[40. 60.]\n"
     ]
    }
   ],
   "source": [
    "X = np.array([10, 20, 30, 40])\n",
    "I = np.array([0, 1, 0, 1])\n",
    "F = np.zeros(2)  # Initialize F with zeros, size based on unique values in I\n",
    "\n",
    "# Accumulate elements of X into F based on indices in I\n",
    "for x, i in zip(X, I):\n",
    "    F[i] += x\n",
    "\n",
    "print(F)\n"
   ]
  },
  {
   "cell_type": "markdown",
   "metadata": {},
   "source": [
    "#### 66. Considering a (w,h,3) image of (dtype=ubyte), compute the number of unique colors (★★☆)"
   ]
  },
  {
   "cell_type": "code",
   "execution_count": 30,
   "metadata": {},
   "outputs": [
    {
     "ename": "OverflowError",
     "evalue": "Python integer 65536 out of bounds for uint8",
     "output_type": "error",
     "traceback": [
      "\u001b[1;31m---------------------------------------------------------------------------\u001b[0m",
      "\u001b[1;31mOverflowError\u001b[0m                             Traceback (most recent call last)",
      "Cell \u001b[1;32mIn[30], line 5\u001b[0m\n\u001b[0;32m      2\u001b[0m I \u001b[38;5;241m=\u001b[39m np\u001b[38;5;241m.\u001b[39mrandom\u001b[38;5;241m.\u001b[39mrandint(\u001b[38;5;241m0\u001b[39m, \u001b[38;5;241m2\u001b[39m, (h, w, \u001b[38;5;241m3\u001b[39m))\u001b[38;5;241m.\u001b[39mastype(np\u001b[38;5;241m.\u001b[39mubyte)\n\u001b[0;32m      3\u001b[0m \u001b[38;5;66;03m# Note that we should compute 256*256 first.\u001b[39;00m\n\u001b[0;32m      4\u001b[0m \u001b[38;5;66;03m# Otherwise numpy will only promote F.dtype to 'uint16' and overflow will occur\u001b[39;00m\n\u001b[1;32m----> 5\u001b[0m F \u001b[38;5;241m=\u001b[39m \u001b[43mI\u001b[49m\u001b[43m[\u001b[49m\u001b[38;5;241;43m.\u001b[39;49m\u001b[38;5;241;43m.\u001b[39;49m\u001b[38;5;241;43m.\u001b[39;49m\u001b[43m,\u001b[49m\u001b[43m \u001b[49m\u001b[38;5;241;43m0\u001b[39;49m\u001b[43m]\u001b[49m\u001b[43m \u001b[49m\u001b[38;5;241;43m*\u001b[39;49m\u001b[43m \u001b[49m\u001b[43m(\u001b[49m\u001b[38;5;241;43m256\u001b[39;49m\u001b[43m \u001b[49m\u001b[38;5;241;43m*\u001b[39;49m\u001b[43m \u001b[49m\u001b[38;5;241;43m256\u001b[39;49m\u001b[43m)\u001b[49m \u001b[38;5;241m+\u001b[39m I[\u001b[38;5;241m.\u001b[39m\u001b[38;5;241m.\u001b[39m\u001b[38;5;241m.\u001b[39m, \u001b[38;5;241m1\u001b[39m] \u001b[38;5;241m*\u001b[39m \u001b[38;5;241m256\u001b[39m \u001b[38;5;241m+\u001b[39m I[\u001b[38;5;241m.\u001b[39m\u001b[38;5;241m.\u001b[39m\u001b[38;5;241m.\u001b[39m, \u001b[38;5;241m2\u001b[39m]\n\u001b[0;32m      6\u001b[0m n \u001b[38;5;241m=\u001b[39m \u001b[38;5;28mlen\u001b[39m(np\u001b[38;5;241m.\u001b[39munique(F))\n\u001b[0;32m      7\u001b[0m n\n",
      "\u001b[1;31mOverflowError\u001b[0m: Python integer 65536 out of bounds for uint8"
     ]
    }
   ],
   "source": [
    "w, h = 16, 16\n",
    "I = np.random.randint(0, 2, (h, w, 3)).astype(np.ubyte)\n",
    "# Note that we should compute 256*256 first.\n",
    "# Otherwise numpy will only promote F.dtype to 'uint16' and overflow will occur\n",
    "F = I[..., 0] * (256 * 256) + I[..., 1] * 256 + I[..., 2]\n",
    "n = len(np.unique(F))\n",
    "n"
   ]
  },
  {
   "cell_type": "markdown",
   "metadata": {},
   "source": [
    "#### 67. Considering a four dimensions array, how to get sum over the last two axis at once? (★★★)"
   ]
  },
  {
   "cell_type": "code",
   "execution_count": 31,
   "metadata": {},
   "outputs": [
    {
     "name": "stdout",
     "output_type": "stream",
     "text": [
      "[[45 54 62 29]\n",
      " [59 60 45 41]\n",
      " [48 51 44 51]]\n",
      "[[45 54 62 29]\n",
      " [59 60 45 41]\n",
      " [48 51 44 51]]\n"
     ]
    }
   ],
   "source": [
    "A = np.random.randint(0,10,(3,4,3,4))\n",
    "# solution by passing a tuple of axes (introduced in numpy 1.7.0)\n",
    "sum = A.sum(axis=(-2,-1))\n",
    "print(sum)\n",
    "# solution by flattening the last two dimensions into one\n",
    "# (useful for functions that don't accept tuples for axis argument)\n",
    "sum = A.reshape(A.shape[:-2] + (-1,)).sum(axis=-1)\n",
    "print(sum)"
   ]
  },
  {
   "cell_type": "markdown",
   "metadata": {},
   "source": [
    "#### 68. Considering a one-dimensional vector D, how to compute means of subsets of D using a vector S of same size describing subset  indices? (★★★)"
   ]
  },
  {
   "cell_type": "code",
   "execution_count": 32,
   "metadata": {},
   "outputs": [
    {
     "name": "stdout",
     "output_type": "stream",
     "text": [
      "[0.4844764  0.5971935  0.49204498 0.31572555 0.4918503  0.62632802\n",
      " 0.44042058 0.52241417 0.57338665 0.43560607]\n",
      "0    0.484476\n",
      "1    0.597194\n",
      "2    0.492045\n",
      "3    0.315726\n",
      "4    0.491850\n",
      "5    0.626328\n",
      "6    0.440421\n",
      "7    0.522414\n",
      "8    0.573387\n",
      "9    0.435606\n",
      "dtype: float64\n"
     ]
    }
   ],
   "source": [
    "D = np.random.uniform(0,1,100)\n",
    "S = np.random.randint(0,10,100)\n",
    "D_sums = np.bincount(S, weights=D)\n",
    "D_counts = np.bincount(S)\n",
    "D_means = D_sums / D_counts\n",
    "print(D_means)\n",
    "\n",
    "# Pandas solution as a reference due to more intuitive code\n",
    "import pandas as pd\n",
    "print(pd.Series(D).groupby(S).mean())"
   ]
  },
  {
   "cell_type": "markdown",
   "metadata": {},
   "source": [
    "#### 69. How to get the diagonal of a dot product? (★★★)"
   ]
  },
  {
   "cell_type": "code",
   "execution_count": 33,
   "metadata": {},
   "outputs": [
    {
     "data": {
      "text/plain": [
       "array([1.6392784 , 1.44908899, 0.83443729, 1.18349734, 1.52374484])"
      ]
     },
     "execution_count": 33,
     "metadata": {},
     "output_type": "execute_result"
    }
   ],
   "source": [
    "A = np.random.uniform(0,1,(5,5))\n",
    "B = np.random.uniform(0,1,(5,5))\n",
    "\n",
    "# Slow version  \n",
    "np.diag(np.dot(A, B))\n",
    "\n",
    "# Fast version\n",
    "np.sum(A * B.T, axis=1)\n",
    "\n",
    "# Faster version\n",
    "np.einsum(\"ij,ji->i\", A, B)"
   ]
  },
  {
   "cell_type": "markdown",
   "metadata": {},
   "source": [
    "#### 70. Consider the vector [1, 2, 3, 4, 5], how to build a new vector with 3 consecutive zeros interleaved between each value? (★★★)"
   ]
  },
  {
   "cell_type": "code",
   "execution_count": 34,
   "metadata": {},
   "outputs": [
    {
     "name": "stdout",
     "output_type": "stream",
     "text": [
      "[1. 0. 0. 0. 2. 0. 0. 0. 3. 0. 0. 0. 4. 0. 0. 0. 5.]\n"
     ]
    }
   ],
   "source": [
    "Z = np.array([1,2,3,4,5])\n",
    "nz = 3\n",
    "Z0 = np.zeros(len(Z) + (len(Z)-1)*(nz))\n",
    "Z0[::nz+1] = Z\n",
    "print(Z0)"
   ]
  },
  {
   "cell_type": "markdown",
   "metadata": {},
   "source": [
    "#### 71. Consider an array of dimension (5,5,3), how to mulitply it by an array with dimensions (5,5)? (★★★)"
   ]
  },
  {
   "cell_type": "code",
   "execution_count": 35,
   "metadata": {},
   "outputs": [
    {
     "name": "stdout",
     "output_type": "stream",
     "text": [
      "[[[2. 2. 2.]\n",
      "  [2. 2. 2.]\n",
      "  [2. 2. 2.]\n",
      "  [2. 2. 2.]\n",
      "  [2. 2. 2.]]\n",
      "\n",
      " [[2. 2. 2.]\n",
      "  [2. 2. 2.]\n",
      "  [2. 2. 2.]\n",
      "  [2. 2. 2.]\n",
      "  [2. 2. 2.]]\n",
      "\n",
      " [[2. 2. 2.]\n",
      "  [2. 2. 2.]\n",
      "  [2. 2. 2.]\n",
      "  [2. 2. 2.]\n",
      "  [2. 2. 2.]]\n",
      "\n",
      " [[2. 2. 2.]\n",
      "  [2. 2. 2.]\n",
      "  [2. 2. 2.]\n",
      "  [2. 2. 2.]\n",
      "  [2. 2. 2.]]\n",
      "\n",
      " [[2. 2. 2.]\n",
      "  [2. 2. 2.]\n",
      "  [2. 2. 2.]\n",
      "  [2. 2. 2.]\n",
      "  [2. 2. 2.]]]\n"
     ]
    }
   ],
   "source": [
    "A = np.ones((5,5,3))\n",
    "B = 2*np.ones((5,5))\n",
    "print(A * B[:,:,None])"
   ]
  },
  {
   "cell_type": "markdown",
   "metadata": {},
   "source": [
    "#### 72. How to swap two rows of an array? (★★★)"
   ]
  },
  {
   "cell_type": "code",
   "execution_count": 36,
   "metadata": {},
   "outputs": [
    {
     "name": "stdout",
     "output_type": "stream",
     "text": [
      "[[ 5  6  7  8  9]\n",
      " [ 0  1  2  3  4]\n",
      " [10 11 12 13 14]\n",
      " [15 16 17 18 19]\n",
      " [20 21 22 23 24]]\n"
     ]
    }
   ],
   "source": [
    "A = np.arange(25).reshape(5,5)\n",
    "A[[0,1]] = A[[1,0]]\n",
    "print(A)"
   ]
  },
  {
   "cell_type": "markdown",
   "metadata": {},
   "source": [
    "#### 73. Consider a set of 10 triplets describing 10 triangles (with shared vertices), find the set of unique line segments composing all the  triangles (★★★)"
   ]
  },
  {
   "cell_type": "code",
   "execution_count": 37,
   "metadata": {},
   "outputs": [
    {
     "name": "stdout",
     "output_type": "stream",
     "text": [
      "[(12, 87) (12, 99) (18, 52) (18, 96) (22, 26) (22, 71) (26, 71) (28, 72)\n",
      " (28, 90) (28, 93) (28, 94) (31, 50) (31, 67) (37, 38) (37, 51) (38, 51)\n",
      " (38, 58) (38, 61) (43, 50) (43, 99) (50, 67) (50, 99) (52, 96) (58, 61)\n",
      " (63, 88) (63, 99) (72, 93) (87, 99) (88, 99) (90, 94)]\n"
     ]
    }
   ],
   "source": [
    "faces = np.random.randint(0,100,(10,3))\n",
    "F = np.roll(faces.repeat(2,axis=1),-1,axis=1)\n",
    "F = F.reshape(len(F)*3,2)\n",
    "F = np.sort(F,axis=1)\n",
    "G = F.view( dtype=[('p0',F.dtype),('p1',F.dtype)] )\n",
    "G = np.unique(G)\n",
    "print(G)"
   ]
  },
  {
   "cell_type": "markdown",
   "metadata": {},
   "source": [
    "#### 74. Given a sorted array C that corresponds to a bincount, how to produce an array A such that np.bincount(A) == C? (★★★)"
   ]
  },
  {
   "cell_type": "code",
   "execution_count": 38,
   "metadata": {},
   "outputs": [
    {
     "name": "stdout",
     "output_type": "stream",
     "text": [
      "[1 1 2 3 4 4 6]\n"
     ]
    }
   ],
   "source": [
    "C = np.bincount([1,1,2,3,4,4,6])\n",
    "A = np.repeat(np.arange(len(C)), C)\n",
    "print(A)"
   ]
  },
  {
   "cell_type": "markdown",
   "metadata": {},
   "source": [
    "#### 75. How to compute averages using a sliding window over an array? (★★★)"
   ]
  },
  {
   "cell_type": "code",
   "execution_count": 39,
   "metadata": {},
   "outputs": [
    {
     "name": "stdout",
     "output_type": "stream",
     "text": [
      "[ 1.  2.  3.  4.  5.  6.  7.  8.  9. 10. 11. 12. 13. 14. 15. 16. 17. 18.]\n"
     ]
    }
   ],
   "source": [
    "def moving_average(a, n=3) :\n",
    "    ret = np.cumsum(a, dtype=float)\n",
    "    ret[n:] = ret[n:] - ret[:-n]\n",
    "    return ret[n - 1:] / n\n",
    "Z = np.arange(20)\n",
    "print(moving_average(Z, n=3))"
   ]
  },
  {
   "cell_type": "markdown",
   "metadata": {},
   "source": [
    "#### 76. Consider a one-dimensional array Z, build a two-dimensional array whose first row is (Z[0],Z[1],Z[2]) and each subsequent row is  shifted by 1 (last row should be (Z[-3],Z[-2],Z[-1]) (★★★)"
   ]
  },
  {
   "cell_type": "code",
   "execution_count": 40,
   "metadata": {},
   "outputs": [
    {
     "name": "stdout",
     "output_type": "stream",
     "text": [
      "[[0 1 2]\n",
      " [1 2 3]\n",
      " [2 3 4]\n",
      " [3 4 5]\n",
      " [4 5 6]\n",
      " [5 6 7]\n",
      " [6 7 8]\n",
      " [7 8 9]]\n"
     ]
    }
   ],
   "source": [
    "from numpy.lib import stride_tricks\n",
    "\n",
    "def rolling(a, window):\n",
    "    shape = (a.size - window + 1, window)\n",
    "    strides = (a.itemsize, a.itemsize)\n",
    "    return stride_tricks.as_strided(a, shape=shape, strides=strides)\n",
    "Z = rolling(np.arange(10), 3)\n",
    "print(Z)\n"
   ]
  },
  {
   "cell_type": "markdown",
   "metadata": {},
   "source": [
    "#### 77. How to negate a boolean, or to change the sign of a float inplace? (★★★)"
   ]
  },
  {
   "cell_type": "code",
   "execution_count": 41,
   "metadata": {},
   "outputs": [
    {
     "data": {
      "text/plain": [
       "array([-0.25032479,  0.7821017 , -0.65932152, -0.33249599,  0.96134198,\n",
       "       -0.88501438,  0.62993635, -0.44496857,  0.84976866, -0.64804398,\n",
       "       -0.59119601,  0.78255717,  0.78148357, -0.38451527, -0.1300662 ,\n",
       "        0.507859  , -0.73104358, -0.21142099, -0.36421568,  0.58439466,\n",
       "       -0.82467831,  0.49568323,  0.36198377,  0.04540635, -0.58928091,\n",
       "        0.32811052,  0.0177229 ,  0.20972554,  0.30773759,  0.79364775,\n",
       "       -0.26497495,  0.75493424,  0.97349697, -0.53846418, -0.30968011,\n",
       "       -0.95918766, -0.61779302, -0.20004838,  0.34589031,  0.56012788,\n",
       "        0.63445296, -0.48743862, -0.05821185, -0.67947774, -0.8894198 ,\n",
       "        0.12308583, -0.26847596,  0.34106127,  0.64999395, -0.83248066,\n",
       "       -0.7867168 ,  0.0799098 , -0.29154273,  0.06063136,  0.76545613,\n",
       "        0.27064213,  0.12159025,  0.70369803,  0.30054199,  0.02945611,\n",
       "       -0.43316053, -0.20407886, -0.22120806,  0.65651405, -0.62663616,\n",
       "       -0.89556633, -0.83938009, -0.57038075,  0.01791524, -0.14033943,\n",
       "        0.67634394, -0.48792136,  0.8634957 , -0.18201149, -0.34876926,\n",
       "       -0.75389643,  0.17708319,  0.12741744, -0.18847425,  0.3616155 ,\n",
       "       -0.57000222, -0.46854762,  0.554043  ,  0.88938445, -0.55775341,\n",
       "        0.84627536,  0.03947276,  0.35274263,  0.54654706, -0.10976848,\n",
       "       -0.66928372,  0.91862789, -0.05179891, -0.46486504,  0.50549298,\n",
       "        0.7718435 ,  0.48491168,  0.34570208, -0.86071335, -0.70305389])"
      ]
     },
     "execution_count": 41,
     "metadata": {},
     "output_type": "execute_result"
    }
   ],
   "source": [
    "Z = np.random.randint(0,2,100)\n",
    "np.logical_not(Z, out=Z)\n",
    "\n",
    "Z = np.random.uniform(-1.0,1.0,100)\n",
    "np.negative(Z, out=Z)"
   ]
  },
  {
   "cell_type": "markdown",
   "metadata": {},
   "source": [
    "#### 78. Consider 2 sets of points P0,P1 describing lines (2d) and a point p, how to compute distance from p to each line i (P0[i],P1[i])? (★★★)"
   ]
  },
  {
   "cell_type": "code",
   "execution_count": 42,
   "metadata": {},
   "outputs": [
    {
     "name": "stdout",
     "output_type": "stream",
     "text": [
      "[ 1.38542429 10.18334138  8.45717549  1.10687754  5.56599946 10.65669404\n",
      "  7.24577728  2.52884723  0.67962682  3.07383642]\n"
     ]
    }
   ],
   "source": [
    "def distance(P0, P1, p):\n",
    "    T = P1 - P0\n",
    "    L = (T**2).sum(axis=1)\n",
    "    U = -((P0[:,0]-p[...,0])*T[:,0] + (P0[:,1]-p[...,1])*T[:,1]) / L\n",
    "    U = U.reshape(len(U),1)\n",
    "    D = P0 + U*T - p\n",
    "    return np.sqrt((D**2).sum(axis=1))\n",
    "\n",
    "P0 = np.random.uniform(-10,10,(10,2))\n",
    "P1 = np.random.uniform(-10,10,(10,2))\n",
    "p  = np.random.uniform(-10,10,( 1,2))\n",
    "print(distance(P0, P1, p))"
   ]
  },
  {
   "cell_type": "markdown",
   "metadata": {},
   "source": [
    "#### 79. Consider 2 sets of points P0,P1 describing lines (2d) and a set of points P, how to compute distance from each point j (P[j]) to each line i (P0[i],P1[i])? (★★★)"
   ]
  },
  {
   "cell_type": "code",
   "execution_count": 43,
   "metadata": {},
   "outputs": [
    {
     "name": "stdout",
     "output_type": "stream",
     "text": [
      "[[ 8.3665846   4.27439412  6.14018567 14.09630707  3.25034339 11.12853939\n",
      "  11.45468673 10.04815725  5.93614162  5.50025662]\n",
      " [ 0.37199058 10.32449474  8.20245323  3.6136861   8.44430402  0.48029043\n",
      "   2.44786265  3.18230586  3.51696485 10.46362106]\n",
      " [ 9.68675681  5.23669701  7.13764065 15.36749324  4.27146389 10.63202848\n",
      "  12.50397685 11.16163875  7.24863934  6.00918773]\n",
      " [ 0.12989773  8.62001442  6.58231297  4.23084379  6.41208092  2.19447767\n",
      "   0.96364393  1.89000754  2.59367755  8.03159154]\n",
      " [ 5.28477519  0.92391127  2.77324242 10.85135251  2.47034764 10.28912095\n",
      "   8.0718195   6.66262151  3.71328928  2.62235254]\n",
      " [ 3.08028237  1.04005144  2.72830989  9.16172563  1.73753543 14.23705892\n",
      "   7.77634104  6.03026259  0.20907329  4.40971868]\n",
      " [ 6.29536988  0.02916951  1.94746494 11.39975594  5.70638444  6.85051137\n",
      "   7.44653979  6.31172929  6.00516717  0.42572975]\n",
      " [ 1.47969578  4.39117508  2.69912703  4.24129016  2.20357929 12.13757324\n",
      "   2.37042693  0.68354762  2.71910553  0.5735857 ]\n",
      " [ 7.22797959  4.00061195  5.80304125 13.13973816  1.56180704 12.56347704\n",
      "  11.01990309  9.48387012  4.3804882   5.91257022]\n",
      " [ 4.87824489  1.53242362  0.43441868  9.91701521  5.29336653  6.53224362\n",
      "   5.92261005  4.78158468  4.95451884  0.8403646 ]]\n"
     ]
    }
   ],
   "source": [
    "P0 = np.random.uniform(-10, 10, (10,2))\n",
    "P1 = np.random.uniform(-10,10,(10,2))\n",
    "p = np.random.uniform(-10, 10, (10,2))\n",
    "print(np.array([distance(P0,P1,p_i) for p_i in p]))"
   ]
  },
  {
   "cell_type": "markdown",
   "metadata": {},
   "source": [
    "#### 80. Consider an arbitrary array, write a function that extract a subpart with a fixed shape and centered on a given element (pad with a `fill` value when necessary) (★★★)"
   ]
  },
  {
   "cell_type": "code",
   "execution_count": null,
   "metadata": {},
   "outputs": [],
   "source": []
  },
  {
   "cell_type": "markdown",
   "metadata": {},
   "source": [
    "#### 81. Consider an array Z = [1,2,3,4,5,6,7,8,9,10,11,12,13,14], how to generate an array R = [[1,2,3,4], [2,3,4,5], [3,4,5,6], ..., [11,12,13,14]]? (★★★)"
   ]
  },
  {
   "cell_type": "code",
   "execution_count": 46,
   "metadata": {},
   "outputs": [
    {
     "name": "stdout",
     "output_type": "stream",
     "text": [
      "[[ 1  2  3  4]\n",
      " [ 2  3  4  5]\n",
      " [ 3  4  5  6]\n",
      " [ 4  5  6  7]\n",
      " [ 5  6  7  8]\n",
      " [ 6  7  8  9]\n",
      " [ 7  8  9 10]\n",
      " [ 8  9 10 11]\n",
      " [ 9 10 11 12]\n",
      " [10 11 12 13]\n",
      " [11 12 13 14]]\n"
     ]
    }
   ],
   "source": [
    "Z = np.arange(1,15,dtype=np.uint32)\n",
    "R = stride_tricks.as_strided(Z,(11,4),(4,4))\n",
    "print(R)"
   ]
  },
  {
   "cell_type": "markdown",
   "metadata": {},
   "source": [
    "#### 82. Compute a matrix rank (★★★)"
   ]
  },
  {
   "cell_type": "code",
   "execution_count": 47,
   "metadata": {},
   "outputs": [
    {
     "name": "stdout",
     "output_type": "stream",
     "text": [
      "10\n"
     ]
    }
   ],
   "source": [
    "Z = np.random.uniform(0,1,(10,10))\n",
    "U, S, V = np.linalg.svd(Z) # Singular Value Decomposition\n",
    "rank = np.sum(S > 1e-10)\n",
    "print(rank)"
   ]
  },
  {
   "cell_type": "markdown",
   "metadata": {},
   "source": [
    "#### 83. How to find the most frequent value in an array?"
   ]
  },
  {
   "cell_type": "code",
   "execution_count": 48,
   "metadata": {},
   "outputs": [
    {
     "name": "stdout",
     "output_type": "stream",
     "text": [
      "8\n"
     ]
    }
   ],
   "source": [
    "Z = np.random.randint(0,10,50)\n",
    "print(np.bincount(Z).argmax())"
   ]
  },
  {
   "cell_type": "markdown",
   "metadata": {},
   "source": [
    "#### 84. Extract all the contiguous 3x3 blocks from a random 10x10 matrix (★★★)"
   ]
  },
  {
   "cell_type": "code",
   "execution_count": 49,
   "metadata": {},
   "outputs": [
    {
     "name": "stdout",
     "output_type": "stream",
     "text": [
      "[[[[1 0 4]\n",
      "   [3 4 1]\n",
      "   [4 2 2]]\n",
      "\n",
      "  [[0 4 2]\n",
      "   [4 1 1]\n",
      "   [2 2 2]]\n",
      "\n",
      "  [[4 2 0]\n",
      "   [1 1 2]\n",
      "   [2 2 3]]\n",
      "\n",
      "  [[2 0 0]\n",
      "   [1 2 0]\n",
      "   [2 3 0]]\n",
      "\n",
      "  [[0 0 2]\n",
      "   [2 0 0]\n",
      "   [3 0 4]]\n",
      "\n",
      "  [[0 2 3]\n",
      "   [0 0 1]\n",
      "   [0 4 4]]\n",
      "\n",
      "  [[2 3 2]\n",
      "   [0 1 3]\n",
      "   [4 4 2]]\n",
      "\n",
      "  [[3 2 4]\n",
      "   [1 3 3]\n",
      "   [4 2 2]]]\n",
      "\n",
      "\n",
      " [[[3 4 1]\n",
      "   [4 2 2]\n",
      "   [4 0 2]]\n",
      "\n",
      "  [[4 1 1]\n",
      "   [2 2 2]\n",
      "   [0 2 2]]\n",
      "\n",
      "  [[1 1 2]\n",
      "   [2 2 3]\n",
      "   [2 2 3]]\n",
      "\n",
      "  [[1 2 0]\n",
      "   [2 3 0]\n",
      "   [2 3 3]]\n",
      "\n",
      "  [[2 0 0]\n",
      "   [3 0 4]\n",
      "   [3 3 0]]\n",
      "\n",
      "  [[0 0 1]\n",
      "   [0 4 4]\n",
      "   [3 0 0]]\n",
      "\n",
      "  [[0 1 3]\n",
      "   [4 4 2]\n",
      "   [0 0 1]]\n",
      "\n",
      "  [[1 3 3]\n",
      "   [4 2 2]\n",
      "   [0 1 0]]]\n",
      "\n",
      "\n",
      " [[[4 2 2]\n",
      "   [4 0 2]\n",
      "   [4 4 1]]\n",
      "\n",
      "  [[2 2 2]\n",
      "   [0 2 2]\n",
      "   [4 1 0]]\n",
      "\n",
      "  [[2 2 3]\n",
      "   [2 2 3]\n",
      "   [1 0 3]]\n",
      "\n",
      "  [[2 3 0]\n",
      "   [2 3 3]\n",
      "   [0 3 2]]\n",
      "\n",
      "  [[3 0 4]\n",
      "   [3 3 0]\n",
      "   [3 2 0]]\n",
      "\n",
      "  [[0 4 4]\n",
      "   [3 0 0]\n",
      "   [2 0 0]]\n",
      "\n",
      "  [[4 4 2]\n",
      "   [0 0 1]\n",
      "   [0 0 1]]\n",
      "\n",
      "  [[4 2 2]\n",
      "   [0 1 0]\n",
      "   [0 1 0]]]\n",
      "\n",
      "\n",
      " [[[4 0 2]\n",
      "   [4 4 1]\n",
      "   [3 0 4]]\n",
      "\n",
      "  [[0 2 2]\n",
      "   [4 1 0]\n",
      "   [0 4 4]]\n",
      "\n",
      "  [[2 2 3]\n",
      "   [1 0 3]\n",
      "   [4 4 3]]\n",
      "\n",
      "  [[2 3 3]\n",
      "   [0 3 2]\n",
      "   [4 3 0]]\n",
      "\n",
      "  [[3 3 0]\n",
      "   [3 2 0]\n",
      "   [3 0 3]]\n",
      "\n",
      "  [[3 0 0]\n",
      "   [2 0 0]\n",
      "   [0 3 2]]\n",
      "\n",
      "  [[0 0 1]\n",
      "   [0 0 1]\n",
      "   [3 2 0]]\n",
      "\n",
      "  [[0 1 0]\n",
      "   [0 1 0]\n",
      "   [2 0 0]]]\n",
      "\n",
      "\n",
      " [[[4 4 1]\n",
      "   [3 0 4]\n",
      "   [2 3 2]]\n",
      "\n",
      "  [[4 1 0]\n",
      "   [0 4 4]\n",
      "   [3 2 0]]\n",
      "\n",
      "  [[1 0 3]\n",
      "   [4 4 3]\n",
      "   [2 0 0]]\n",
      "\n",
      "  [[0 3 2]\n",
      "   [4 3 0]\n",
      "   [0 0 2]]\n",
      "\n",
      "  [[3 2 0]\n",
      "   [3 0 3]\n",
      "   [0 2 3]]\n",
      "\n",
      "  [[2 0 0]\n",
      "   [0 3 2]\n",
      "   [2 3 2]]\n",
      "\n",
      "  [[0 0 1]\n",
      "   [3 2 0]\n",
      "   [3 2 0]]\n",
      "\n",
      "  [[0 1 0]\n",
      "   [2 0 0]\n",
      "   [2 0 1]]]\n",
      "\n",
      "\n",
      " [[[3 0 4]\n",
      "   [2 3 2]\n",
      "   [2 2 4]]\n",
      "\n",
      "  [[0 4 4]\n",
      "   [3 2 0]\n",
      "   [2 4 2]]\n",
      "\n",
      "  [[4 4 3]\n",
      "   [2 0 0]\n",
      "   [4 2 2]]\n",
      "\n",
      "  [[4 3 0]\n",
      "   [0 0 2]\n",
      "   [2 2 3]]\n",
      "\n",
      "  [[3 0 3]\n",
      "   [0 2 3]\n",
      "   [2 3 2]]\n",
      "\n",
      "  [[0 3 2]\n",
      "   [2 3 2]\n",
      "   [3 2 4]]\n",
      "\n",
      "  [[3 2 0]\n",
      "   [3 2 0]\n",
      "   [2 4 2]]\n",
      "\n",
      "  [[2 0 0]\n",
      "   [2 0 1]\n",
      "   [4 2 1]]]\n",
      "\n",
      "\n",
      " [[[2 3 2]\n",
      "   [2 2 4]\n",
      "   [0 2 0]]\n",
      "\n",
      "  [[3 2 0]\n",
      "   [2 4 2]\n",
      "   [2 0 4]]\n",
      "\n",
      "  [[2 0 0]\n",
      "   [4 2 2]\n",
      "   [0 4 0]]\n",
      "\n",
      "  [[0 0 2]\n",
      "   [2 2 3]\n",
      "   [4 0 0]]\n",
      "\n",
      "  [[0 2 3]\n",
      "   [2 3 2]\n",
      "   [0 0 4]]\n",
      "\n",
      "  [[2 3 2]\n",
      "   [3 2 4]\n",
      "   [0 4 1]]\n",
      "\n",
      "  [[3 2 0]\n",
      "   [2 4 2]\n",
      "   [4 1 4]]\n",
      "\n",
      "  [[2 0 1]\n",
      "   [4 2 1]\n",
      "   [1 4 2]]]\n",
      "\n",
      "\n",
      " [[[2 2 4]\n",
      "   [0 2 0]\n",
      "   [3 1 1]]\n",
      "\n",
      "  [[2 4 2]\n",
      "   [2 0 4]\n",
      "   [1 1 4]]\n",
      "\n",
      "  [[4 2 2]\n",
      "   [0 4 0]\n",
      "   [1 4 4]]\n",
      "\n",
      "  [[2 2 3]\n",
      "   [4 0 0]\n",
      "   [4 4 1]]\n",
      "\n",
      "  [[2 3 2]\n",
      "   [0 0 4]\n",
      "   [4 1 1]]\n",
      "\n",
      "  [[3 2 4]\n",
      "   [0 4 1]\n",
      "   [1 1 2]]\n",
      "\n",
      "  [[2 4 2]\n",
      "   [4 1 4]\n",
      "   [1 2 3]]\n",
      "\n",
      "  [[4 2 1]\n",
      "   [1 4 2]\n",
      "   [2 3 0]]]]\n"
     ]
    }
   ],
   "source": [
    "Z = np.random.randint(0,5,(10,10))\n",
    "n = 3\n",
    "i = 1 + (Z.shape[0]-3)\n",
    "j = 1 + (Z.shape[1]-3)\n",
    "C = stride_tricks.as_strided(Z, shape=(i, j, n, n), strides=Z.strides + Z.strides)\n",
    "print(C)"
   ]
  },
  {
   "cell_type": "markdown",
   "metadata": {},
   "source": [
    "#### 85. Create a 2D array subclass such that Z[i,j] == Z[j,i] (★★★)"
   ]
  },
  {
   "cell_type": "code",
   "execution_count": 50,
   "metadata": {},
   "outputs": [
    {
     "name": "stdout",
     "output_type": "stream",
     "text": [
      "[[ 2 13 13 13 17]\n",
      " [13  5  6 14 13]\n",
      " [13  6  6 42 15]\n",
      " [13 14 42  9 11]\n",
      " [17 13 15 11  9]]\n"
     ]
    }
   ],
   "source": [
    "class Symetric(np.ndarray):\n",
    "    def __setitem__(self, index, value):\n",
    "        i,j = index\n",
    "        super(Symetric, self).__setitem__((i,j), value)\n",
    "        super(Symetric, self).__setitem__((j,i), value)\n",
    "\n",
    "def symetric(Z):\n",
    "    return np.asarray(Z + Z.T - np.diag(Z.diagonal())).view(Symetric)\n",
    "\n",
    "S = symetric(np.random.randint(0,10,(5,5)))\n",
    "S[2,3] = 42\n",
    "print(S)"
   ]
  },
  {
   "cell_type": "markdown",
   "metadata": {},
   "source": [
    "#### 86. Consider a set of p matrices wich shape (n,n) and a set of p vectors with shape (n,1). How to compute the sum of of the p matrix products at once? (result has shape (n,1)) (★★★)"
   ]
  },
  {
   "cell_type": "code",
   "execution_count": 51,
   "metadata": {},
   "outputs": [
    {
     "name": "stdout",
     "output_type": "stream",
     "text": [
      "[[200.]\n",
      " [200.]\n",
      " [200.]\n",
      " [200.]\n",
      " [200.]\n",
      " [200.]\n",
      " [200.]\n",
      " [200.]\n",
      " [200.]\n",
      " [200.]\n",
      " [200.]\n",
      " [200.]\n",
      " [200.]\n",
      " [200.]\n",
      " [200.]\n",
      " [200.]\n",
      " [200.]\n",
      " [200.]\n",
      " [200.]\n",
      " [200.]]\n"
     ]
    }
   ],
   "source": [
    "p, n = 10, 20\n",
    "M = np.ones((p,n,n))\n",
    "V = np.ones((p,n,1))\n",
    "S = np.tensordot(M, V, axes=[[0, 2], [0, 1]])\n",
    "print(S)"
   ]
  },
  {
   "cell_type": "markdown",
   "metadata": {},
   "source": [
    "#### 87. Consider a 16x16 array, how to get the block-sum (block size is 4x4)? (★★★)"
   ]
  },
  {
   "cell_type": "code",
   "execution_count": 52,
   "metadata": {},
   "outputs": [
    {
     "name": "stdout",
     "output_type": "stream",
     "text": [
      "[[16. 16. 16. 16.]\n",
      " [16. 16. 16. 16.]\n",
      " [16. 16. 16. 16.]\n",
      " [16. 16. 16. 16.]]\n"
     ]
    }
   ],
   "source": [
    "Z = np.ones((16,16))\n",
    "k = 4\n",
    "S = np.add.reduceat(np.add.reduceat(Z, np.arange(0, Z.shape[0], k), axis=0),\n",
    "                                       np.arange(0, Z.shape[1], k), axis=1)\n",
    "print(S)"
   ]
  },
  {
   "cell_type": "markdown",
   "metadata": {},
   "source": [
    "#### 88. How to implement the Game of Life using numpy arrays? (★★★)"
   ]
  },
  {
   "cell_type": "code",
   "execution_count": 53,
   "metadata": {},
   "outputs": [
    {
     "name": "stdout",
     "output_type": "stream",
     "text": [
      "[[0 0 0 ... 0 0 0]\n",
      " [0 0 0 ... 1 0 0]\n",
      " [0 0 0 ... 0 1 0]\n",
      " ...\n",
      " [0 0 0 ... 0 0 0]\n",
      " [0 0 0 ... 0 0 0]\n",
      " [0 0 0 ... 0 0 0]]\n"
     ]
    }
   ],
   "source": [
    "def iterate(Z):\n",
    "    # Count neighbours\n",
    "    N = (Z[0:-2,0:-2] + Z[0:-2,1:-1] + Z[0:-2,2:] +\n",
    "         Z[1:-1,0:-2]                + Z[1:-1,2:] +\n",
    "         Z[2:  ,0:-2] + Z[2:  ,1:-1] + Z[2:  ,2:])\n",
    "\n",
    "    # Apply rules\n",
    "    birth = (N==3) & (Z[1:-1,1:-1]==0)\n",
    "    survive = ((N==2) | (N==3)) & (Z[1:-1,1:-1]==1)\n",
    "    Z[...] = 0\n",
    "    Z[1:-1,1:-1][birth | survive] = 1\n",
    "    return Z\n",
    "\n",
    "Z = np.random.randint(0,2,(50,50))\n",
    "for i in range(100): Z = iterate(Z)\n",
    "print(Z)"
   ]
  },
  {
   "cell_type": "markdown",
   "metadata": {},
   "source": [
    "#### 89. How to get the n largest values of an array (★★★)"
   ]
  },
  {
   "cell_type": "code",
   "execution_count": 54,
   "metadata": {},
   "outputs": [
    {
     "name": "stdout",
     "output_type": "stream",
     "text": [
      "[9995 9996 9997 9998 9999]\n",
      "[9999 9998 9997 9996 9995]\n"
     ]
    }
   ],
   "source": [
    "Z = np.arange(10000)\n",
    "np.random.shuffle(Z)\n",
    "n = 5\n",
    "\n",
    "# Slow\n",
    "print (Z[np.argsort(Z)[-n:]])\n",
    "\n",
    "# Fast\n",
    "print (Z[np.argpartition(-Z,n)[:n]])"
   ]
  },
  {
   "cell_type": "markdown",
   "metadata": {},
   "source": [
    "#### 90. Given an arbitrary number of vectors, build the cartesian product (every combinations of every item) (★★★)"
   ]
  },
  {
   "cell_type": "code",
   "execution_count": 55,
   "metadata": {},
   "outputs": [
    {
     "name": "stdout",
     "output_type": "stream",
     "text": [
      "[[1 4 6]\n",
      " [1 4 7]\n",
      " [1 5 6]\n",
      " [1 5 7]\n",
      " [2 4 6]\n",
      " [2 4 7]\n",
      " [2 5 6]\n",
      " [2 5 7]\n",
      " [3 4 6]\n",
      " [3 4 7]\n",
      " [3 5 6]\n",
      " [3 5 7]]\n"
     ]
    }
   ],
   "source": [
    "def cartesian(arrays):\n",
    "    arrays = [np.asarray(a) for a in arrays]\n",
    "    shape = (len(x) for x in arrays)\n",
    "\n",
    "    ix = np.indices(shape, dtype=int)\n",
    "    ix = ix.reshape(len(arrays), -1).T\n",
    "\n",
    "    for n, arr in enumerate(arrays):\n",
    "        ix[:, n] = arrays[n][ix[:, n]]\n",
    "\n",
    "    return ix\n",
    "\n",
    "print (cartesian(([1, 2, 3], [4, 5], [6, 7])))"
   ]
  },
  {
   "cell_type": "markdown",
   "metadata": {},
   "source": [
    "#### 91. How to create a record array from a regular array? (★★★)"
   ]
  },
  {
   "cell_type": "code",
   "execution_count": 56,
   "metadata": {},
   "outputs": [
    {
     "name": "stdout",
     "output_type": "stream",
     "text": [
      "[(b'Hello', 2.5, 3) (b'World', 3.6, 2)]\n"
     ]
    },
    {
     "name": "stderr",
     "output_type": "stream",
     "text": [
      "C:\\Users\\KipkorirPbartuiyotBi\\AppData\\Local\\Temp\\ipykernel_8176\\3979488781.py:3: DeprecationWarning: numpy.core is deprecated and has been renamed to numpy._core. The numpy._core namespace contains private NumPy internals and its use is discouraged, as NumPy internals can change without warning in any release. In practice, most real-world usage of numpy.core is to access functionality in the public NumPy API. If that is the case, use the public NumPy API. If not, you are using NumPy internals. If you would still like to access an internal attribute, use numpy._core.records.\n",
      "  R = np.core.records.fromarrays(Z.T,\n"
     ]
    }
   ],
   "source": [
    "Z = np.array([(\"Hello\", 2.5, 3),\n",
    "              (\"World\", 3.6, 2)])\n",
    "R = np.core.records.fromarrays(Z.T, \n",
    "                               names='col1, col2, col3',\n",
    "                               formats = 'S8, f8, i8')\n",
    "print(R)"
   ]
  },
  {
   "cell_type": "markdown",
   "metadata": {},
   "source": [
    "#### 92. Consider a large vector Z, compute Z to the power of 3 using 3 different methods (★★★)"
   ]
  },
  {
   "cell_type": "code",
   "execution_count": null,
   "metadata": {},
   "outputs": [],
   "source": []
  },
  {
   "cell_type": "markdown",
   "metadata": {},
   "source": [
    "#### 93. Consider two arrays A and B of shape (8,3) and (2,2). How to find rows of A that contain elements of each row of B regardless of the order of the elements in B? (★★★)"
   ]
  },
  {
   "cell_type": "code",
   "execution_count": 57,
   "metadata": {},
   "outputs": [
    {
     "name": "stdout",
     "output_type": "stream",
     "text": [
      "[0 5 6 7]\n"
     ]
    }
   ],
   "source": [
    "A = np.random.randint(0,5,(8,3))\n",
    "B = np.random.randint(0,5,(2,2))\n",
    "\n",
    "C = (A[..., np.newaxis, np.newaxis] == B)\n",
    "rows = np.where(C.any((3,1)).all(1))[0]\n",
    "print(rows)"
   ]
  },
  {
   "cell_type": "markdown",
   "metadata": {},
   "source": [
    "#### 94. Considering a 10x3 matrix, extract rows with unequal values (e.g. [2,2,3]) (★★★)"
   ]
  },
  {
   "cell_type": "code",
   "execution_count": 58,
   "metadata": {},
   "outputs": [
    {
     "name": "stdout",
     "output_type": "stream",
     "text": [
      "[[3 0 2]\n",
      " [0 1 0]\n",
      " [2 1 2]\n",
      " [2 4 2]\n",
      " [4 3 2]\n",
      " [1 4 4]\n",
      " [2 3 4]\n",
      " [4 0 3]\n",
      " [4 0 0]\n",
      " [1 0 2]]\n",
      "[[3 0 2]\n",
      " [0 1 0]\n",
      " [2 1 2]\n",
      " [2 4 2]\n",
      " [4 3 2]\n",
      " [1 4 4]\n",
      " [2 3 4]\n",
      " [4 0 3]\n",
      " [4 0 0]\n",
      " [1 0 2]]\n",
      "[[3 0 2]\n",
      " [0 1 0]\n",
      " [2 1 2]\n",
      " [2 4 2]\n",
      " [4 3 2]\n",
      " [1 4 4]\n",
      " [2 3 4]\n",
      " [4 0 3]\n",
      " [4 0 0]\n",
      " [1 0 2]]\n"
     ]
    }
   ],
   "source": [
    "Z = np.random.randint(0,5,(10,3))\n",
    "print(Z)\n",
    "# solution for arrays of all dtypes (including string arrays and record arrays)\n",
    "E = np.all(Z[:,1:] == Z[:,:-1], axis=1)\n",
    "U = Z[~E]\n",
    "print(U)\n",
    "# soluiton for numerical arrays only, will work for any number of columns in Z\n",
    "U = Z[Z.max(axis=1) != Z.min(axis=1),:]\n",
    "print(U)"
   ]
  },
  {
   "cell_type": "markdown",
   "metadata": {},
   "source": [
    "#### 95. Convert a vector of ints into a matrix binary representation (★★★)"
   ]
  },
  {
   "cell_type": "code",
   "execution_count": 60,
   "metadata": {},
   "outputs": [
    {
     "name": "stdout",
     "output_type": "stream",
     "text": [
      "[[0 0 0 0 0 0 0 0]\n",
      " [0 0 0 0 0 0 0 1]\n",
      " [0 0 0 0 0 0 1 0]\n",
      " [0 0 0 0 0 0 1 1]\n",
      " [0 0 0 0 1 1 1 1]\n",
      " [0 0 0 1 0 0 0 0]\n",
      " [0 0 1 0 0 0 0 0]\n",
      " [0 1 0 0 0 0 0 0]\n",
      " [1 0 0 0 0 0 0 0]]\n",
      "[[0 0 0 0 0 0 0 0]\n",
      " [0 0 0 0 0 0 0 1]\n",
      " [0 0 0 0 0 0 1 0]\n",
      " [0 0 0 0 0 0 1 1]\n",
      " [0 0 0 0 1 1 1 1]\n",
      " [0 0 0 1 0 0 0 0]\n",
      " [0 0 1 0 0 0 0 0]\n",
      " [0 1 0 0 0 0 0 0]\n",
      " [1 0 0 0 0 0 0 0]]\n"
     ]
    }
   ],
   "source": [
    "I = np.array([0, 1, 2, 3, 15, 16, 32, 64, 128])\n",
    "B = ((I.reshape(-1,1) & (2**np.arange(8))) != 0).astype(int)\n",
    "print(B[:,::-1])\n",
    "\n",
    "# Author: Daniel T. McDonald\n",
    "\n",
    "I = np.array([0, 1, 2, 3, 15, 16, 32, 64, 128], dtype=np.uint8)\n",
    "print(np.unpackbits(I[:, np.newaxis], axis=1))"
   ]
  },
  {
   "cell_type": "markdown",
   "metadata": {},
   "source": [
    "#### 96. Given a two dimensional array, how to extract unique rows? (★★★)"
   ]
  },
  {
   "cell_type": "code",
   "execution_count": 62,
   "metadata": {},
   "outputs": [
    {
     "name": "stdout",
     "output_type": "stream",
     "text": [
      "[[0 0 0]\n",
      " [0 1 0]\n",
      " [1 0 0]\n",
      " [1 0 1]\n",
      " [1 1 1]]\n",
      "[[0 0 0]\n",
      " [0 1 0]\n",
      " [1 0 0]\n",
      " [1 0 1]\n",
      " [1 1 1]]\n"
     ]
    }
   ],
   "source": [
    "Z = np.random.randint(0,2,(6,3))\n",
    "T = np.ascontiguousarray(Z).view(np.dtype((np.void, Z.dtype.itemsize * Z.shape[1])))\n",
    "_, idx = np.unique(T, return_index=True)\n",
    "uZ = Z[idx]\n",
    "print(uZ)\n",
    "\n",
    "# Author: Andreas Kouzelis\n",
    "# NumPy >= 1.13\n",
    "uZ = np.unique(Z, axis=0)\n",
    "print(uZ)"
   ]
  },
  {
   "cell_type": "markdown",
   "metadata": {},
   "source": [
    "#### 97. Considering 2 vectors A & B, write the einsum equivalent of inner, outer, sum, and mul function (★★★)"
   ]
  },
  {
   "cell_type": "code",
   "execution_count": 63,
   "metadata": {},
   "outputs": [
    {
     "data": {
      "text/plain": [
       "array([[1.12254746e-01, 1.19097978e-01, 2.54420657e-03, 4.80598623e-01,\n",
       "        1.22804659e-01, 9.06572323e-02, 1.21785151e-04, 2.10139343e-01,\n",
       "        4.27165884e-01, 4.51102660e-01],\n",
       "       [1.92135055e-01, 2.03847920e-01, 4.35466012e-03, 8.22591877e-01,\n",
       "        2.10192269e-01, 1.55168782e-01, 2.08447281e-04, 3.59674182e-01,\n",
       "        7.31136482e-01, 7.72106633e-01],\n",
       "       [1.42624707e-01, 1.51319341e-01, 3.23252893e-03, 6.10622177e-01,\n",
       "        1.56028845e-01, 1.15184093e-01, 1.54733515e-04, 2.66991491e-01,\n",
       "        5.42733478e-01, 5.73146230e-01],\n",
       "       [6.64711437e-02, 7.05233327e-02, 1.50654049e-03, 2.84584315e-01,\n",
       "        7.27182269e-02, 5.36822727e-02, 7.21145301e-05, 1.24433068e-01,\n",
       "        2.52944359e-01, 2.67118413e-01],\n",
       "       [1.61671838e-01, 1.71527616e-01, 3.66422414e-03, 6.92169063e-01,\n",
       "        1.76866062e-01, 1.30566607e-01, 1.75397744e-04, 3.02647459e-01,\n",
       "        6.15214017e-01, 6.49688307e-01],\n",
       "       [1.32521591e-01, 1.40600322e-01, 3.00354606e-03, 5.67367492e-01,\n",
       "        1.44976219e-01, 1.07024790e-01, 1.43772646e-04, 2.48078597e-01,\n",
       "        5.04287829e-01, 5.32546231e-01],\n",
       "       [3.87933053e-02, 4.11582083e-02, 8.79233931e-04, 1.66086599e-01,\n",
       "        4.24391731e-02, 3.13295767e-02, 4.20868489e-05, 7.26205345e-02,\n",
       "        1.47621166e-01, 1.55893303e-01],\n",
       "       [1.10525862e-01, 1.17263698e-01, 2.50502213e-03, 4.73196713e-01,\n",
       "        1.20913291e-01, 8.92609806e-02, 1.19909485e-04, 2.06902895e-01,\n",
       "        4.20586915e-01, 4.44155031e-01],\n",
       "       [1.91488866e-01, 2.03162338e-01, 4.34001452e-03, 8.19825335e-01,\n",
       "        2.09485350e-01, 1.54646918e-01, 2.07746231e-04, 3.58464525e-01,\n",
       "        7.28677522e-01, 7.69509882e-01],\n",
       "       [1.40873658e-01, 1.49461545e-01, 3.19284215e-03, 6.03125375e-01,\n",
       "        1.54113230e-01, 1.13769942e-01, 1.52833803e-04, 2.63713552e-01,\n",
       "        5.36070167e-01, 5.66109532e-01]])"
      ]
     },
     "execution_count": 63,
     "metadata": {},
     "output_type": "execute_result"
    }
   ],
   "source": [
    "A = np.random.uniform(0,1,10)\n",
    "B = np.random.uniform(0,1,10)\n",
    "\n",
    "np.einsum('i->', A)\n",
    "np.einsum('i,i->i', A, B)\n",
    "np.einsum('i,i', A, B)\n",
    "np.einsum('i,j->ij', A, B)"
   ]
  },
  {
   "cell_type": "markdown",
   "metadata": {},
   "source": [
    "#### 98. Considering a path described by two vectors (X,Y), how to sample it using equidistant samples (★★★)?"
   ]
  },
  {
   "cell_type": "code",
   "execution_count": 64,
   "metadata": {},
   "outputs": [],
   "source": [
    "phi = np.arange(0, 10*np.pi, 0.1)\n",
    "a = 1\n",
    "x = a*phi*np.cos(phi)\n",
    "y = a*phi*np.sin(phi)\n",
    "\n",
    "dr = (np.diff(x)**2 + np.diff(y)**2)**.5 \n",
    "r = np.zeros_like(x)\n",
    "r[1:] = np.cumsum(dr)\n",
    "r_int = np.linspace(0, r.max(), 200)\n",
    "x_int = np.interp(r_int, r, x)\n",
    "y_int = np.interp(r_int, r, y)"
   ]
  },
  {
   "cell_type": "markdown",
   "metadata": {},
   "source": [
    "#### 99. Given an integer n and a 2D array X, select from X the rows which can be interpreted as draws from a multinomial distribution with n degrees, i.e., the rows which only contain integers and which sum to n. (★★★)"
   ]
  },
  {
   "cell_type": "code",
   "execution_count": 65,
   "metadata": {},
   "outputs": [
    {
     "name": "stdout",
     "output_type": "stream",
     "text": [
      "[[2. 0. 1. 1.]]\n"
     ]
    }
   ],
   "source": [
    "X = np.asarray([[1.0, 0.0, 3.0, 8.0],\n",
    "                [2.0, 0.0, 1.0, 1.0],\n",
    "                [1.5, 2.5, 1.0, 0.0]])\n",
    "n = 4\n",
    "M = np.logical_and.reduce(np.mod(X, 1) == 0, axis=-1)\n",
    "M &= (X.sum(axis=-1) == n)\n",
    "print(X[M])"
   ]
  },
  {
   "cell_type": "markdown",
   "metadata": {},
   "source": [
    "#### 100. Compute bootstrapped 95% confidence intervals for the mean of a 1D array X (i.e., resample the elements of an array with replacement N times, compute the mean of each sample, and then compute percentiles over the means). (★★★)"
   ]
  },
  {
   "cell_type": "code",
   "execution_count": 66,
   "metadata": {},
   "outputs": [
    {
     "name": "stdout",
     "output_type": "stream",
     "text": [
      "[-0.05424523  0.36931639]\n"
     ]
    }
   ],
   "source": [
    "X = np.random.randn(100) # random 1D array\n",
    "N = 1000 # number of bootstrap samples\n",
    "idx = np.random.randint(0, X.size, (N, X.size))\n",
    "means = X[idx].mean(axis=1)\n",
    "confint = np.percentile(means, [2.5, 97.5])\n",
    "print(confint)"
   ]
  }
 ],
 "metadata": {
  "kernelspec": {
   "display_name": "Python 3",
   "language": "python",
   "name": "python3"
  },
  "language_info": {
   "codemirror_mode": {
    "name": "ipython",
    "version": 3
   },
   "file_extension": ".py",
   "mimetype": "text/x-python",
   "name": "python",
   "nbconvert_exporter": "python",
   "pygments_lexer": "ipython3",
   "version": "3.12.6"
  }
 },
 "nbformat": 4,
 "nbformat_minor": 4
}
