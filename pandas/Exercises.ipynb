{
 "cells": [
  {
   "cell_type": "markdown",
   "metadata": {},
   "source": [
    "# Pokemon"
   ]
  },
  {
   "cell_type": "markdown",
   "metadata": {},
   "source": [
    "### Introduction:\n",
    "\n",
    "This time you will create the data.\n",
    "\n",
    "\n",
    "\n",
    "### Step 1. Import the necessary libraries"
   ]
  },
  {
   "cell_type": "code",
   "execution_count": 5,
   "metadata": {
    "collapsed": false
   },
   "outputs": [],
   "source": [
    "import numpy as np"
   ]
  },
  {
   "cell_type": "markdown",
   "metadata": {},
   "source": [
    "### Step 2. Create a data dictionary that looks like the DataFrame below"
   ]
  },
  {
   "cell_type": "code",
   "execution_count": 1,
   "metadata": {
    "collapsed": true
   },
   "outputs": [
    {
     "name": "stdout",
     "output_type": "stream",
     "text": [
      "{'evolution': array(['Ivysaur', 'Charmeleon', 'Wartortle', 'Metapod'], dtype='<U10'), 'hp': array([46, 30, 31, 38], dtype=int32), 'name': array(['Bulbasaur', 'Charmander', 'Squirtle', 'Caterpie'], dtype='<U10'), 'pokedex': array(['yes', 'no', 'yes', 'no'], dtype='<U3'), 'type': array(['Grass', 'Fire', 'Water', 'Bug'], dtype='<U5')}\n"
     ]
    }
   ],
   "source": [
    "import numpy as np\n",
    "\n",
    "# Create arrays for each column\n",
    "evolution = np.array(['Ivysaur', 'Charmeleon', 'Wartortle', 'Metapod'])\n",
    "hp = np.random.randint(20, 50, size=4)\n",
    "name = np.array(['Bulbasaur', 'Charmander', 'Squirtle', 'Caterpie'])\n",
    "pokedex = np.array(['yes', 'no', 'yes', 'no'])\n",
    "type_ = np.array(['Grass', 'Fire', 'Water', 'Bug'])\n",
    "\n",
    "# Create a data dictionary\n",
    "data = {\n",
    "    'evolution': evolution,\n",
    "    'hp': hp,\n",
    "    'name': name,\n",
    "    'pokedex': pokedex,\n",
    "    'type': type_\n",
    "}\n",
    "\n",
    "print(data)"
   ]
  },
  {
   "cell_type": "markdown",
   "metadata": {},
   "source": [
    "### Step 3. Assign it to a variable called pokemon"
   ]
  },
  {
   "cell_type": "code",
   "execution_count": 9,
   "metadata": {
    "collapsed": false
   },
   "outputs": [
    {
     "name": "stdout",
     "output_type": "stream",
     "text": [
      "{'evolution': array(['Ivysaur', 'Charmeleon', 'Wartortle', 'Metapod'], dtype='<U10'), 'hp': array([34, 25, 38, 48], dtype=int32), 'name': array(['Bulbasaur', 'Charmander', 'Squirtle', 'Caterpie'], dtype='<U10'), 'pokedex': array(['yes', 'no', 'yes', 'no'], dtype='<U3'), 'type': array(['Grass', 'Fire', 'Water', 'Bug'], dtype='<U5')}\n"
     ]
    }
   ],
   "source": [
    "import numpy as np\n",
    "\n",
    "# Create arrays for each column\n",
    "evolution = np.array(['Ivysaur', 'Charmeleon', 'Wartortle', 'Metapod'])\n",
    "hp = np.random.randint(20, 50, size=4)\n",
    "name = np.array(['Bulbasaur', 'Charmander', 'Squirtle', 'Caterpie'])\n",
    "pokedex = np.array(['yes', 'no', 'yes', 'no'])\n",
    "type_ = np.array(['Grass', 'Fire', 'Water', 'Bug'])\n",
    "\n",
    "# Create a data dictionary\n",
    "pokemon = {\n",
    "    'evolution': evolution,\n",
    "    'hp': hp,\n",
    "    'name': name,\n",
    "    'pokedex': pokedex,\n",
    "    'type': type_\n",
    "}\n",
    "\n",
    "print(pokemon)"
   ]
  },
  {
   "cell_type": "markdown",
   "metadata": {},
   "source": [
    "### Step 4. Ops...it seems the DataFrame columns are in alphabetical order. Place  the order of the columns as name, type, hp, evolution, pokedex"
   ]
  },
  {
   "cell_type": "code",
   "execution_count": null,
   "metadata": {
    "collapsed": false
   },
   "outputs": [],
   "source": []
  },
  {
   "cell_type": "markdown",
   "metadata": {},
   "source": [
    "### Step 5. Add another column called place, and insert what you have in mind."
   ]
  },
  {
   "cell_type": "code",
   "execution_count": null,
   "metadata": {
    "collapsed": false
   },
   "outputs": [],
   "source": []
  },
  {
   "cell_type": "markdown",
   "metadata": {},
   "source": [
    "### Step 6. Present the type of each column"
   ]
  },
  {
   "cell_type": "code",
   "execution_count": null,
   "metadata": {
    "collapsed": false
   },
   "outputs": [],
   "source": []
  },
  {
   "cell_type": "markdown",
   "metadata": {},
   "source": [
    "### BONUS: Create your own question and answer it."
   ]
  },
  {
   "cell_type": "code",
   "execution_count": null,
   "metadata": {
    "collapsed": true
   },
   "outputs": [],
   "source": []
  }
 ],
 "metadata": {
  "kernelspec": {
   "display_name": "Python 3",
   "language": "python",
   "name": "python3"
  },
  "language_info": {
   "codemirror_mode": {
    "name": "ipython",
    "version": 3
   },
   "file_extension": ".py",
   "mimetype": "text/x-python",
   "name": "python",
   "nbconvert_exporter": "python",
   "pygments_lexer": "ipython3",
   "version": "3.12.6"
  }
 },
 "nbformat": 4,
 "nbformat_minor": 0
}
